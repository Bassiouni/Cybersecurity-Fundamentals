{
 "cells": [
  {
   "attachments": {},
   "cell_type": "markdown",
   "metadata": {},
   "source": [
    "# First Section"
   ]
  },
  {
   "attachments": {},
   "cell_type": "markdown",
   "metadata": {},
   "source": [
    "## Ceaser Encryption Method"
   ]
  },
  {
   "cell_type": "code",
   "execution_count": 21,
   "metadata": {},
   "outputs": [
    {
     "name": "stdout",
     "output_type": "stream",
     "text": [
      "Cipher text: zhofrphcwkhuh\n",
      "Plain  text: welcome there\n"
     ]
    }
   ],
   "source": [
    "plain_text = \"welcome there\"\n",
    "\n",
    "key = 3\n",
    "\n",
    "codes_nums = {\n",
    "    0: ' ',\n",
    "    **{x: chr(x - 1 + ord('a')) for x in range(1, 27)}\n",
    "}\n",
    "\n",
    "codes_char = {\n",
    "    ' ': 0,\n",
    "    **{chr(x - 1 + ord('a')): x for x in range(1, 27)}\n",
    "}\n",
    "\n",
    "\n",
    "def encrypt(text, key):\n",
    "    ct = ''\n",
    "    for l in text:\n",
    "        c = codes_char[l]\n",
    "        eq = (c + key) % 27\n",
    "        ct += codes_nums[eq]\n",
    "    return ct\n",
    "\n",
    "\n",
    "def decrypt(cipher, key):\n",
    "    ct = ''\n",
    "    for l in cipher:\n",
    "        n = codes_char[l] - key\n",
    "        while n < 0:\n",
    "            n += 27\n",
    "        ct += codes_nums[n % 27]\n",
    "    return ct\n",
    "\n",
    "\n",
    "cipher = encrypt(plain_text, key)\n",
    "print('Cipher text:', cipher)\n",
    "\n",
    "decoded_text = decrypt(cipher, key)\n",
    "print('Plain  text:', decoded_text)\n"
   ]
  },
  {
   "attachments": {},
   "cell_type": "markdown",
   "metadata": {},
   "source": [
    "## Transposition Encryption Method"
   ]
  },
  {
   "cell_type": "code",
   "execution_count": 32,
   "metadata": {},
   "outputs": [
    {
     "name": "stdout",
     "output_type": "stream",
     "text": [
      "Cipher text: newerodocenbwonmwdesa\n",
      "Plain  text: weneedmoresnownowabcd\n"
     ]
    }
   ],
   "source": [
    "from math import ceil\n",
    "from numpy import array\n",
    "\n",
    "\n",
    "def encrypt(plain_text, key):\n",
    "    text_list = [c for c in plain_text if c != ' ']\n",
    "\n",
    "    arr = [[c for c in key]]\n",
    "\n",
    "    for i in range(ceil(len(text_list) / len(key))):\n",
    "        arr.append(text_list[i * len(key): (i + 1) * len(key)])\n",
    "\n",
    "    if len(arr[-1]) != len(arr[0]):\n",
    "        arr[-1] += [chr(ord('a') + i) for i in range(len(key) - len(arr[-1]))]\n",
    "\n",
    "    arr = array(arr).transpose().tolist()\n",
    "\n",
    "    arr.sort()\n",
    "\n",
    "    cipher = ''\n",
    "\n",
    "    for e in arr:\n",
    "        cipher += ''.join(e[1:])\n",
    "\n",
    "    return cipher\n",
    "\n",
    "\n",
    "def decrypt(cipher, key):\n",
    "    sorted_key = [c for c in key]\n",
    "    sorted_key.sort()\n",
    "    arr = [sorted_key]\n",
    "\n",
    "    arr = array(arr).transpose().tolist()\n",
    "\n",
    "    itr = len(cipher) // len(key)\n",
    "    for i in range(len(arr)):\n",
    "        arr[i] += [c for c in cipher[i * itr : (i+1) * itr]]\n",
    "\n",
    "    disc = {e[0]: e[1:] for e in arr}\n",
    "    arr = []\n",
    "    for c in key:\n",
    "        arr.append(disc[c])\n",
    "    arr = array(arr).transpose().flatten().tolist()\n",
    "\n",
    "    return ''.join(arr)\n",
    "\n",
    "\n",
    "plain_text = 'we need more snow now'\n",
    "key = 'securit'\n",
    "\n",
    "cipher = encrypt(plain_text, key)\n",
    "print('Cipher text:', cipher)\n",
    "\n",
    "decoded_text = decrypt(cipher, key)\n",
    "print('Plain  text:', decoded_text)\n"
   ]
  }
 ],
 "metadata": {
  "kernelspec": {
   "display_name": "tf",
   "language": "python",
   "name": "python3"
  },
  "language_info": {
   "codemirror_mode": {
    "name": "ipython",
    "version": 3
   },
   "file_extension": ".py",
   "mimetype": "text/x-python",
   "name": "python",
   "nbconvert_exporter": "python",
   "pygments_lexer": "ipython3",
   "version": "3.9.13"
  },
  "orig_nbformat": 4
 },
 "nbformat": 4,
 "nbformat_minor": 2
}
